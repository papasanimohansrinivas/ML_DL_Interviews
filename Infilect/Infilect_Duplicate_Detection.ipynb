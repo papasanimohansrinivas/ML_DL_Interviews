{
  "nbformat": 4,
  "nbformat_minor": 0,
  "metadata": {
    "colab": {
      "name": "Infilect_Duplicate_Detection.ipynb",
      "version": "0.3.2",
      "provenance": [],
      "collapsed_sections": []
    },
    "kernelspec": {
      "name": "python2",
      "display_name": "Python 2"
    },
    "accelerator": "GPU"
  },
  "cells": [
    {
      "metadata": {
        "id": "vsrRT1XbGyGG",
        "colab_type": "code",
        "colab": {}
      },
      "cell_type": "code",
      "source": [
        "#@title aria2c is a cli tool for multiple connection downloading\n",
        "# !apt-get install aria2"
      ],
      "execution_count": 0,
      "outputs": []
    },
    {
      "metadata": {
        "id": "9hhbrEaCiqRp",
        "colab_type": "text"
      },
      "cell_type": "markdown",
      "source": [
        "### Download Dataset"
      ]
    },
    {
      "metadata": {
        "id": "LipT3a3PFH9c",
        "colab_type": "code",
        "colab": {}
      },
      "cell_type": "code",
      "source": [
        "# !aria2c -x 16 -s 16 https://huew.blob.core.windows.net/assignments/small-2oq-c1r.tar.gz"
      ],
      "execution_count": 0,
      "outputs": []
    },
    {
      "metadata": {
        "id": "LsfOZSJajNE9",
        "colab_type": "text"
      },
      "cell_type": "markdown",
      "source": [
        "### Unzip using tar command and delete the tar.gz file "
      ]
    },
    {
      "metadata": {
        "id": "FovFsufTFffZ",
        "colab_type": "code",
        "colab": {
          "base_uri": "https://localhost:8080/",
          "height": 34
        },
        "outputId": "bf66805c-16e6-4853-c049-a77e4ddb50f4"
      },
      "cell_type": "code",
      "source": [
        "#@title unzip and delete the zip file\n",
        "\n",
        "!tar xvzf small-2oq-c1r.tar.gz\n",
        "\n",
        "!rm -f small-2oq-c1r.tar.gz"
      ],
      "execution_count": 7,
      "outputs": [
        {
          "output_type": "stream",
          "text": [
            "small-2oq-c1r.csv\r\n"
          ],
          "name": "stdout"
        }
      ]
    },
    {
      "metadata": {
        "id": "J_wJNPkNFjPT",
        "colab_type": "code",
        "colab": {
          "base_uri": "https://localhost:8080/",
          "height": 50
        },
        "outputId": "41e961b4-0559-41ce-e2a3-25585615d8d0"
      },
      "cell_type": "code",
      "source": [
        "#@title file Size is around 1.3 gb\n",
        "ls -sh"
      ],
      "execution_count": 8,
      "outputs": [
        {
          "output_type": "stream",
          "text": [
            "total 1.3G\r\n",
            "4.0K \u001b[0m\u001b[01;34mdatalab\u001b[0m/  1.3G small-2oq-c1r.csv\r\n"
          ],
          "name": "stdout"
        }
      ]
    },
    {
      "metadata": {
        "id": "s3wQ7G8EJObb",
        "colab_type": "code",
        "colab": {}
      },
      "cell_type": "code",
      "source": [
        "import pandas"
      ],
      "execution_count": 0,
      "outputs": []
    },
    {
      "metadata": {
        "id": "mFRH__Tg_arn",
        "colab_type": "text"
      },
      "cell_type": "markdown",
      "source": [
        "### Data Set actually has some misformed  lines so .\n",
        "### I choose to not to load them into dataframe"
      ]
    },
    {
      "metadata": {
        "id": "da3Go5yKIoI4",
        "colab_type": "code",
        "colab": {}
      },
      "cell_type": "code",
      "source": [
        "df=pandas.read_csv(\"small-2oq-c1r.csv\",error_bad_lines=False,warn_bad_lines=False,low_memory=False)"
      ],
      "execution_count": 0,
      "outputs": []
    },
    {
      "metadata": {
        "id": "voS0Ytt090Wk",
        "colab_type": "text"
      },
      "cell_type": "markdown",
      "source": [
        "### Show Percentage of null values in Each Column"
      ]
    },
    {
      "metadata": {
        "id": "7_es9c7Bx-bC",
        "colab_type": "code",
        "colab": {}
      },
      "cell_type": "code",
      "source": [
        "def null_values_column(dataframe):\n",
        "  \n",
        "  columns=dataframe.columns.tolist()\n",
        "  \n",
        "  percentages = []\n",
        "  total_nulls = []\n",
        "  \n",
        "  lr = dataframe.shape[0]\n",
        "  \n",
        "  for name in columns:\n",
        "    null_no = dataframe[name].isna().sum()\n",
        "    total_nulls.append(null_no)\n",
        "    percentages.append((null_no+0.0)/lr*100)\n",
        "    \n",
        "  \n",
        "  \n",
        "  temp=pandas.DataFrame({'columns':columns,'number_of_nulls':total_nulls,'total_rows':[lr]*len(columns),'percentage_null':percentages})\n",
        "  \n",
        "  return temp\n",
        "    \n",
        "    \n",
        "\n",
        "stats = null_values_column(df)"
      ],
      "execution_count": 0,
      "outputs": []
    },
    {
      "metadata": {
        "id": "9YMCV086xGQW",
        "colab_type": "code",
        "colab": {
          "base_uri": "https://localhost:8080/",
          "height": 994
        },
        "outputId": "a3b998f3-b706-4825-bc5e-ebd261c07f85"
      },
      "cell_type": "code",
      "source": [
        "stats"
      ],
      "execution_count": 12,
      "outputs": [
        {
          "output_type": "execute_result",
          "data": {
            "text/html": [
              "<div>\n",
              "<style scoped>\n",
              "    .dataframe tbody tr th:only-of-type {\n",
              "        vertical-align: middle;\n",
              "    }\n",
              "\n",
              "    .dataframe tbody tr th {\n",
              "        vertical-align: top;\n",
              "    }\n",
              "\n",
              "    .dataframe thead th {\n",
              "        text-align: right;\n",
              "    }\n",
              "</style>\n",
              "<table border=\"1\" class=\"dataframe\">\n",
              "  <thead>\n",
              "    <tr style=\"text-align: right;\">\n",
              "      <th></th>\n",
              "      <th>columns</th>\n",
              "      <th>number_of_nulls</th>\n",
              "      <th>percentage_null</th>\n",
              "      <th>total_rows</th>\n",
              "    </tr>\n",
              "  </thead>\n",
              "  <tbody>\n",
              "    <tr>\n",
              "      <th>0</th>\n",
              "      <td>productId</td>\n",
              "      <td>0</td>\n",
              "      <td>0.000000</td>\n",
              "      <td>1063787</td>\n",
              "    </tr>\n",
              "    <tr>\n",
              "      <th>1</th>\n",
              "      <td>title</td>\n",
              "      <td>15</td>\n",
              "      <td>0.001410</td>\n",
              "      <td>1063787</td>\n",
              "    </tr>\n",
              "    <tr>\n",
              "      <th>2</th>\n",
              "      <td>description</td>\n",
              "      <td>353048</td>\n",
              "      <td>33.187847</td>\n",
              "      <td>1063787</td>\n",
              "    </tr>\n",
              "    <tr>\n",
              "      <th>3</th>\n",
              "      <td>imageUrlStr</td>\n",
              "      <td>1263</td>\n",
              "      <td>0.118727</td>\n",
              "      <td>1063787</td>\n",
              "    </tr>\n",
              "    <tr>\n",
              "      <th>4</th>\n",
              "      <td>mrp</td>\n",
              "      <td>4</td>\n",
              "      <td>0.000376</td>\n",
              "      <td>1063787</td>\n",
              "    </tr>\n",
              "    <tr>\n",
              "      <th>5</th>\n",
              "      <td>sellingPrice</td>\n",
              "      <td>4396</td>\n",
              "      <td>0.413241</td>\n",
              "      <td>1063787</td>\n",
              "    </tr>\n",
              "    <tr>\n",
              "      <th>6</th>\n",
              "      <td>specialPrice</td>\n",
              "      <td>4396</td>\n",
              "      <td>0.413241</td>\n",
              "      <td>1063787</td>\n",
              "    </tr>\n",
              "    <tr>\n",
              "      <th>7</th>\n",
              "      <td>productUrl</td>\n",
              "      <td>4</td>\n",
              "      <td>0.000376</td>\n",
              "      <td>1063787</td>\n",
              "    </tr>\n",
              "    <tr>\n",
              "      <th>8</th>\n",
              "      <td>categories</td>\n",
              "      <td>6</td>\n",
              "      <td>0.000564</td>\n",
              "      <td>1063787</td>\n",
              "    </tr>\n",
              "    <tr>\n",
              "      <th>9</th>\n",
              "      <td>productBrand</td>\n",
              "      <td>8</td>\n",
              "      <td>0.000752</td>\n",
              "      <td>1063787</td>\n",
              "    </tr>\n",
              "    <tr>\n",
              "      <th>10</th>\n",
              "      <td>productFamily</td>\n",
              "      <td>5775</td>\n",
              "      <td>0.542872</td>\n",
              "      <td>1063787</td>\n",
              "    </tr>\n",
              "    <tr>\n",
              "      <th>11</th>\n",
              "      <td>inStock</td>\n",
              "      <td>4</td>\n",
              "      <td>0.000376</td>\n",
              "      <td>1063787</td>\n",
              "    </tr>\n",
              "    <tr>\n",
              "      <th>12</th>\n",
              "      <td>codAvailable</td>\n",
              "      <td>4</td>\n",
              "      <td>0.000376</td>\n",
              "      <td>1063787</td>\n",
              "    </tr>\n",
              "    <tr>\n",
              "      <th>13</th>\n",
              "      <td>offers</td>\n",
              "      <td>1063787</td>\n",
              "      <td>100.000000</td>\n",
              "      <td>1063787</td>\n",
              "    </tr>\n",
              "    <tr>\n",
              "      <th>14</th>\n",
              "      <td>discount</td>\n",
              "      <td>96</td>\n",
              "      <td>0.009024</td>\n",
              "      <td>1063787</td>\n",
              "    </tr>\n",
              "    <tr>\n",
              "      <th>15</th>\n",
              "      <td>shippingCharges</td>\n",
              "      <td>5769</td>\n",
              "      <td>0.542308</td>\n",
              "      <td>1063787</td>\n",
              "    </tr>\n",
              "    <tr>\n",
              "      <th>16</th>\n",
              "      <td>deliveryTime</td>\n",
              "      <td>577038</td>\n",
              "      <td>54.243754</td>\n",
              "      <td>1063787</td>\n",
              "    </tr>\n",
              "    <tr>\n",
              "      <th>17</th>\n",
              "      <td>size</td>\n",
              "      <td>291789</td>\n",
              "      <td>27.429269</td>\n",
              "      <td>1063787</td>\n",
              "    </tr>\n",
              "    <tr>\n",
              "      <th>18</th>\n",
              "      <td>color</td>\n",
              "      <td>5834</td>\n",
              "      <td>0.548418</td>\n",
              "      <td>1063787</td>\n",
              "    </tr>\n",
              "    <tr>\n",
              "      <th>19</th>\n",
              "      <td>sizeUnit</td>\n",
              "      <td>1052349</td>\n",
              "      <td>98.924785</td>\n",
              "      <td>1063787</td>\n",
              "    </tr>\n",
              "    <tr>\n",
              "      <th>20</th>\n",
              "      <td>storage</td>\n",
              "      <td>1063787</td>\n",
              "      <td>100.000000</td>\n",
              "      <td>1063787</td>\n",
              "    </tr>\n",
              "    <tr>\n",
              "      <th>21</th>\n",
              "      <td>displaySize</td>\n",
              "      <td>1063787</td>\n",
              "      <td>100.000000</td>\n",
              "      <td>1063787</td>\n",
              "    </tr>\n",
              "    <tr>\n",
              "      <th>22</th>\n",
              "      <td>keySpecsStr</td>\n",
              "      <td>7923</td>\n",
              "      <td>0.744792</td>\n",
              "      <td>1063787</td>\n",
              "    </tr>\n",
              "    <tr>\n",
              "      <th>23</th>\n",
              "      <td>detailedSpecsStr</td>\n",
              "      <td>18854</td>\n",
              "      <td>1.772347</td>\n",
              "      <td>1063787</td>\n",
              "    </tr>\n",
              "    <tr>\n",
              "      <th>24</th>\n",
              "      <td>specificationList</td>\n",
              "      <td>1063787</td>\n",
              "      <td>100.000000</td>\n",
              "      <td>1063787</td>\n",
              "    </tr>\n",
              "    <tr>\n",
              "      <th>25</th>\n",
              "      <td>sellerName</td>\n",
              "      <td>5775</td>\n",
              "      <td>0.542872</td>\n",
              "      <td>1063787</td>\n",
              "    </tr>\n",
              "    <tr>\n",
              "      <th>26</th>\n",
              "      <td>sellerAverageRating</td>\n",
              "      <td>4</td>\n",
              "      <td>0.000376</td>\n",
              "      <td>1063787</td>\n",
              "    </tr>\n",
              "    <tr>\n",
              "      <th>27</th>\n",
              "      <td>sellerNoOfRatings</td>\n",
              "      <td>4</td>\n",
              "      <td>0.000376</td>\n",
              "      <td>1063787</td>\n",
              "    </tr>\n",
              "    <tr>\n",
              "      <th>28</th>\n",
              "      <td>sellerNoOfReviews</td>\n",
              "      <td>4</td>\n",
              "      <td>0.000376</td>\n",
              "      <td>1063787</td>\n",
              "    </tr>\n",
              "    <tr>\n",
              "      <th>29</th>\n",
              "      <td>sleeve</td>\n",
              "      <td>415786</td>\n",
              "      <td>39.085456</td>\n",
              "      <td>1063787</td>\n",
              "    </tr>\n",
              "    <tr>\n",
              "      <th>30</th>\n",
              "      <td>neck</td>\n",
              "      <td>687925</td>\n",
              "      <td>64.667551</td>\n",
              "      <td>1063787</td>\n",
              "    </tr>\n",
              "    <tr>\n",
              "      <th>31</th>\n",
              "      <td>idealFor</td>\n",
              "      <td>1063787</td>\n",
              "      <td>100.000000</td>\n",
              "      <td>1063787</td>\n",
              "    </tr>\n",
              "  </tbody>\n",
              "</table>\n",
              "</div>"
            ],
            "text/plain": [
              "                columns  number_of_nulls  percentage_null  total_rows\n",
              "0             productId                0         0.000000     1063787\n",
              "1                 title               15         0.001410     1063787\n",
              "2           description           353048        33.187847     1063787\n",
              "3           imageUrlStr             1263         0.118727     1063787\n",
              "4                   mrp                4         0.000376     1063787\n",
              "5          sellingPrice             4396         0.413241     1063787\n",
              "6          specialPrice             4396         0.413241     1063787\n",
              "7            productUrl                4         0.000376     1063787\n",
              "8            categories                6         0.000564     1063787\n",
              "9          productBrand                8         0.000752     1063787\n",
              "10        productFamily             5775         0.542872     1063787\n",
              "11              inStock                4         0.000376     1063787\n",
              "12         codAvailable                4         0.000376     1063787\n",
              "13               offers          1063787       100.000000     1063787\n",
              "14             discount               96         0.009024     1063787\n",
              "15      shippingCharges             5769         0.542308     1063787\n",
              "16         deliveryTime           577038        54.243754     1063787\n",
              "17                 size           291789        27.429269     1063787\n",
              "18                color             5834         0.548418     1063787\n",
              "19             sizeUnit          1052349        98.924785     1063787\n",
              "20              storage          1063787       100.000000     1063787\n",
              "21          displaySize          1063787       100.000000     1063787\n",
              "22          keySpecsStr             7923         0.744792     1063787\n",
              "23     detailedSpecsStr            18854         1.772347     1063787\n",
              "24    specificationList          1063787       100.000000     1063787\n",
              "25           sellerName             5775         0.542872     1063787\n",
              "26  sellerAverageRating                4         0.000376     1063787\n",
              "27    sellerNoOfRatings                4         0.000376     1063787\n",
              "28    sellerNoOfReviews                4         0.000376     1063787\n",
              "29               sleeve           415786        39.085456     1063787\n",
              "30                 neck           687925        64.667551     1063787\n",
              "31             idealFor          1063787       100.000000     1063787"
            ]
          },
          "metadata": {
            "tags": []
          },
          "execution_count": 12
        }
      ]
    },
    {
      "metadata": {
        "id": "zyP8xeI9-xVH",
        "colab_type": "text"
      },
      "cell_type": "markdown",
      "source": [
        "###  There are some rows with 100 percent null vlaues so i am gonna drop them "
      ]
    },
    {
      "metadata": {
        "id": "05eh0UWq--4Z",
        "colab_type": "code",
        "colab": {}
      },
      "cell_type": "code",
      "source": [
        "df=df.dropna(1,how='all')"
      ],
      "execution_count": 0,
      "outputs": []
    },
    {
      "metadata": {
        "id": "s7KBB7kKyUyX",
        "colab_type": "code",
        "colab": {
          "base_uri": "https://localhost:8080/",
          "height": 34
        },
        "outputId": "b2f551a4-119a-4b7a-c60d-465b9261ecd8"
      },
      "cell_type": "code",
      "source": [
        "df.shape"
      ],
      "execution_count": 141,
      "outputs": [
        {
          "output_type": "execute_result",
          "data": {
            "text/plain": [
              "(1063781, 27)"
            ]
          },
          "metadata": {
            "tags": []
          },
          "execution_count": 141
        }
      ]
    },
    {
      "metadata": {
        "id": "RymlSKd5jQm7",
        "colab_type": "text"
      },
      "cell_type": "markdown",
      "source": [
        "### Number of null values in categories column is low --> we would delete these 6 rows "
      ]
    },
    {
      "metadata": {
        "id": "olmHPn9-uxzw",
        "colab_type": "code",
        "colab": {
          "base_uri": "https://localhost:8080/",
          "height": 34
        },
        "outputId": "def8e86f-c6db-4255-9f46-95c204f9de0e"
      },
      "cell_type": "code",
      "source": [
        "print(\"number of null values per column {ref}\".format(ref=df.categories.isna().sum()))"
      ],
      "execution_count": 142,
      "outputs": [
        {
          "output_type": "stream",
          "text": [
            "number of null values per column 0\n"
          ],
          "name": "stdout"
        }
      ]
    },
    {
      "metadata": {
        "id": "m_l5M6l8v1Qn",
        "colab_type": "code",
        "colab": {}
      },
      "cell_type": "code",
      "source": [
        "#@title There are only 6 null values in a million. So i choose to drop them them\n",
        "\n",
        "df=df.dropna(subset=['categories'])"
      ],
      "execution_count": 0,
      "outputs": []
    },
    {
      "metadata": {
        "id": "-B6PwJgLvLeT",
        "colab_type": "code",
        "colab": {}
      },
      "cell_type": "code",
      "source": [
        "from collections import Counter\n",
        "\n",
        "apparel_types=Counter(df.categories)"
      ],
      "execution_count": 0,
      "outputs": []
    },
    {
      "metadata": {
        "id": "1WuYvPwdzfUb",
        "colab_type": "code",
        "colab": {
          "base_uri": "https://localhost:8080/",
          "height": 34
        },
        "outputId": "22a778f4-dd11-4340-9523-f5bcd941801c"
      },
      "cell_type": "code",
      "source": [
        "print(\"total different apparal labels : {ff}\".format(ff=len(apparel_types.keys())))"
      ],
      "execution_count": 16,
      "outputs": [
        {
          "output_type": "stream",
          "text": [
            "total different apparal labels : 114\n"
          ],
          "name": "stdout"
        }
      ]
    },
    {
      "metadata": {
        "id": "3QSO2-DZ_za0",
        "colab_type": "text"
      },
      "cell_type": "markdown",
      "source": [
        "### Collect all types of tops or tunics "
      ]
    },
    {
      "metadata": {
        "id": "IqVvXygX0Az8",
        "colab_type": "code",
        "colab": {}
      },
      "cell_type": "code",
      "source": [
        "apparal_labels=apparel_types.keys()\n",
        "\n",
        "apparal_tops = []\n",
        "apparal_tunics = []\n",
        "\n",
        "for labal in apparal_labels:\n",
        "  # CHeck whether 'top' is in tail part of label or not \n",
        "  last_label=labal.split(\">\")[-1]\n",
        "  if 'Tops'.lower() in last_label.lower():\n",
        "    apparal_tops.append(labal)\n",
        "  if 'Tunics'.lower() in last_label.lower():\n",
        "    apparal_tunics.append(labal)\n",
        "    "
      ],
      "execution_count": 0,
      "outputs": []
    },
    {
      "metadata": {
        "id": "02P4-X05107c",
        "colab_type": "code",
        "colab": {
          "base_uri": "https://localhost:8080/",
          "height": 168
        },
        "outputId": "8ce76b61-507e-4d0c-da93-7f657ac03438"
      },
      "cell_type": "code",
      "source": [
        "apparal_tops"
      ],
      "execution_count": 17,
      "outputs": [
        {
          "output_type": "execute_result",
          "data": {
            "text/plain": [
              "['Apparels>Women>Winter & Seasonal Wear>Thermals>Thermal Tops',\n",
              " 'Apparels>Men>Winterwear & Seasonalwear>Thermal Tops',\n",
              " 'Apparels>Women>Maternity Wear>Shirts, Tops & Tunics>Tops',\n",
              " 'Apparels>Men>Sportswear>Track Tops',\n",
              " 'Apparels>Women>Fusion Wear>Shirts, Tops & Tunics>Tops',\n",
              " 'Apparels>Women>Sports & Gym Wear>Track Tops',\n",
              " 'Apparels>Kids>Girls>T-Shirts & Tops>Tops',\n",
              " 'Apparels>Kids>Infants>Baby Girls>T-Shirts & Tops>Tops',\n",
              " 'Apparels>Women>Western Wear>Shirts, Tops & Tunics>Tops']"
            ]
          },
          "metadata": {
            "tags": []
          },
          "execution_count": 17
        }
      ]
    },
    {
      "metadata": {
        "id": "MiawmHwW4eVm",
        "colab_type": "text"
      },
      "cell_type": "markdown",
      "source": [
        ">>>>>## Seperate DataFrames for Tops and Tunics \n",
        "## From now on we work on tops_dataframe"
      ]
    },
    {
      "metadata": {
        "id": "0YBZnqGunP9m",
        "colab_type": "code",
        "colab": {}
      },
      "cell_type": "code",
      "source": [
        "\n",
        "df_tops = df[df['categories'].isin(apparal_tops)]\n",
        "\n",
        "df_tunics = df[df['categories'].isin(apparal_tunics)]"
      ],
      "execution_count": 0,
      "outputs": []
    },
    {
      "metadata": {
        "id": "aUO5vhAq7ZsM",
        "colab_type": "code",
        "colab": {
          "base_uri": "https://localhost:8080/",
          "height": 84
        },
        "outputId": "08690bc1-2310-4fd7-ede5-cfa6790106dd"
      },
      "cell_type": "code",
      "source": [
        "df_tunics.imageUrlStr.tolist()[0].split(\";\")"
      ],
      "execution_count": 104,
      "outputs": [
        {
          "output_type": "execute_result",
          "data": {
            "text/plain": [
              "['http://img.fkcdn.com/image/tunic/b/f/y/1-1-3422-vea-kupia-s-original-imae7sr4t7unbrwz.jpeg',\n",
              " 'http://img.fkcdn.com/image/tunic/b/f/y/1-1-3422-vea-kupia-s-200x200-imae7sr4t7unbrwz.jpeg',\n",
              " 'http://img.fkcdn.com/image/tunic/b/f/y/1-1-3422-vea-kupia-s-400x400-imae7sr4t7unbrwz.jpeg',\n",
              " 'http://img.fkcdn.com/image/tunic/b/f/y/1-1-3422-vea-kupia-s-800x800-imae7sr4t7unbrwz.jpeg']"
            ]
          },
          "metadata": {
            "tags": []
          },
          "execution_count": 104
        }
      ]
    },
    {
      "metadata": {
        "id": "lHX_pA5tAeK6",
        "colab_type": "code",
        "colab": {}
      },
      "cell_type": "code",
      "source": [
        "def base_url(urli):\n",
        "  \n",
        "  return urli.split(\"://\")[1].split(\"/\")[0]\n",
        "  \n"
      ],
      "execution_count": 0,
      "outputs": []
    },
    {
      "metadata": {
        "id": "GCVpimYOCE23",
        "colab_type": "text"
      },
      "cell_type": "markdown",
      "source": [
        ">>>> ### Find number of websites in the data dump\n",
        "\n"
      ]
    },
    {
      "metadata": {
        "id": "ItkVZGk7jINP",
        "colab_type": "code",
        "colab": {
          "base_uri": "https://localhost:8080/",
          "height": 34
        },
        "outputId": "67cbc93e-3681-483c-9bb7-f48def687d91"
      },
      "cell_type": "code",
      "source": [
        "#@title only unique base url that found was flipkart\n",
        "df_tunics['productUrl'].apply(base_url).nunique()"
      ],
      "execution_count": 45,
      "outputs": [
        {
          "output_type": "execute_result",
          "data": {
            "text/plain": [
              "1"
            ]
          },
          "metadata": {
            "tags": []
          },
          "execution_count": 45
        }
      ]
    },
    {
      "metadata": {
        "id": "s749sbm9ih63",
        "colab_type": "text"
      },
      "cell_type": "markdown",
      "source": [
        ""
      ]
    },
    {
      "metadata": {
        "id": "XwUa064oXuhf",
        "colab_type": "text"
      },
      "cell_type": "markdown",
      "source": [
        "### I would like to remove duplicate ProductId's\n"
      ]
    },
    {
      "metadata": {
        "id": "WvVllNH7OY2t",
        "colab_type": "code",
        "colab": {
          "base_uri": "https://localhost:8080/",
          "height": 846
        },
        "outputId": "6744eda0-45d0-405e-8af7-1c3972b7d3b9"
      },
      "cell_type": "code",
      "source": [
        "null_values_column(df_tunics)"
      ],
      "execution_count": 68,
      "outputs": [
        {
          "output_type": "execute_result",
          "data": {
            "text/html": [
              "<div>\n",
              "<style scoped>\n",
              "    .dataframe tbody tr th:only-of-type {\n",
              "        vertical-align: middle;\n",
              "    }\n",
              "\n",
              "    .dataframe tbody tr th {\n",
              "        vertical-align: top;\n",
              "    }\n",
              "\n",
              "    .dataframe thead th {\n",
              "        text-align: right;\n",
              "    }\n",
              "</style>\n",
              "<table border=\"1\" class=\"dataframe\">\n",
              "  <thead>\n",
              "    <tr style=\"text-align: right;\">\n",
              "      <th></th>\n",
              "      <th>columns</th>\n",
              "      <th>number_of_nulls</th>\n",
              "      <th>percentage_null</th>\n",
              "      <th>total_rows</th>\n",
              "    </tr>\n",
              "  </thead>\n",
              "  <tbody>\n",
              "    <tr>\n",
              "      <th>0</th>\n",
              "      <td>productId</td>\n",
              "      <td>0</td>\n",
              "      <td>0.000000</td>\n",
              "      <td>44001</td>\n",
              "    </tr>\n",
              "    <tr>\n",
              "      <th>1</th>\n",
              "      <td>title</td>\n",
              "      <td>0</td>\n",
              "      <td>0.000000</td>\n",
              "      <td>44001</td>\n",
              "    </tr>\n",
              "    <tr>\n",
              "      <th>2</th>\n",
              "      <td>description</td>\n",
              "      <td>20920</td>\n",
              "      <td>47.544374</td>\n",
              "      <td>44001</td>\n",
              "    </tr>\n",
              "    <tr>\n",
              "      <th>3</th>\n",
              "      <td>imageUrlStr</td>\n",
              "      <td>0</td>\n",
              "      <td>0.000000</td>\n",
              "      <td>44001</td>\n",
              "    </tr>\n",
              "    <tr>\n",
              "      <th>4</th>\n",
              "      <td>mrp</td>\n",
              "      <td>0</td>\n",
              "      <td>0.000000</td>\n",
              "      <td>44001</td>\n",
              "    </tr>\n",
              "    <tr>\n",
              "      <th>5</th>\n",
              "      <td>sellingPrice</td>\n",
              "      <td>0</td>\n",
              "      <td>0.000000</td>\n",
              "      <td>44001</td>\n",
              "    </tr>\n",
              "    <tr>\n",
              "      <th>6</th>\n",
              "      <td>specialPrice</td>\n",
              "      <td>0</td>\n",
              "      <td>0.000000</td>\n",
              "      <td>44001</td>\n",
              "    </tr>\n",
              "    <tr>\n",
              "      <th>7</th>\n",
              "      <td>productUrl</td>\n",
              "      <td>0</td>\n",
              "      <td>0.000000</td>\n",
              "      <td>44001</td>\n",
              "    </tr>\n",
              "    <tr>\n",
              "      <th>8</th>\n",
              "      <td>categories</td>\n",
              "      <td>0</td>\n",
              "      <td>0.000000</td>\n",
              "      <td>44001</td>\n",
              "    </tr>\n",
              "    <tr>\n",
              "      <th>9</th>\n",
              "      <td>productBrand</td>\n",
              "      <td>0</td>\n",
              "      <td>0.000000</td>\n",
              "      <td>44001</td>\n",
              "    </tr>\n",
              "    <tr>\n",
              "      <th>10</th>\n",
              "      <td>productFamily</td>\n",
              "      <td>0</td>\n",
              "      <td>0.000000</td>\n",
              "      <td>44001</td>\n",
              "    </tr>\n",
              "    <tr>\n",
              "      <th>11</th>\n",
              "      <td>inStock</td>\n",
              "      <td>0</td>\n",
              "      <td>0.000000</td>\n",
              "      <td>44001</td>\n",
              "    </tr>\n",
              "    <tr>\n",
              "      <th>12</th>\n",
              "      <td>codAvailable</td>\n",
              "      <td>0</td>\n",
              "      <td>0.000000</td>\n",
              "      <td>44001</td>\n",
              "    </tr>\n",
              "    <tr>\n",
              "      <th>13</th>\n",
              "      <td>discount</td>\n",
              "      <td>0</td>\n",
              "      <td>0.000000</td>\n",
              "      <td>44001</td>\n",
              "    </tr>\n",
              "    <tr>\n",
              "      <th>14</th>\n",
              "      <td>shippingCharges</td>\n",
              "      <td>0</td>\n",
              "      <td>0.000000</td>\n",
              "      <td>44001</td>\n",
              "    </tr>\n",
              "    <tr>\n",
              "      <th>15</th>\n",
              "      <td>deliveryTime</td>\n",
              "      <td>29394</td>\n",
              "      <td>66.803027</td>\n",
              "      <td>44001</td>\n",
              "    </tr>\n",
              "    <tr>\n",
              "      <th>16</th>\n",
              "      <td>size</td>\n",
              "      <td>0</td>\n",
              "      <td>0.000000</td>\n",
              "      <td>44001</td>\n",
              "    </tr>\n",
              "    <tr>\n",
              "      <th>17</th>\n",
              "      <td>color</td>\n",
              "      <td>524</td>\n",
              "      <td>1.190882</td>\n",
              "      <td>44001</td>\n",
              "    </tr>\n",
              "    <tr>\n",
              "      <th>18</th>\n",
              "      <td>sizeUnit</td>\n",
              "      <td>43466</td>\n",
              "      <td>98.784119</td>\n",
              "      <td>44001</td>\n",
              "    </tr>\n",
              "    <tr>\n",
              "      <th>19</th>\n",
              "      <td>keySpecsStr</td>\n",
              "      <td>7</td>\n",
              "      <td>0.015909</td>\n",
              "      <td>44001</td>\n",
              "    </tr>\n",
              "    <tr>\n",
              "      <th>20</th>\n",
              "      <td>detailedSpecsStr</td>\n",
              "      <td>7</td>\n",
              "      <td>0.015909</td>\n",
              "      <td>44001</td>\n",
              "    </tr>\n",
              "    <tr>\n",
              "      <th>21</th>\n",
              "      <td>sellerName</td>\n",
              "      <td>0</td>\n",
              "      <td>0.000000</td>\n",
              "      <td>44001</td>\n",
              "    </tr>\n",
              "    <tr>\n",
              "      <th>22</th>\n",
              "      <td>sellerAverageRating</td>\n",
              "      <td>0</td>\n",
              "      <td>0.000000</td>\n",
              "      <td>44001</td>\n",
              "    </tr>\n",
              "    <tr>\n",
              "      <th>23</th>\n",
              "      <td>sellerNoOfRatings</td>\n",
              "      <td>0</td>\n",
              "      <td>0.000000</td>\n",
              "      <td>44001</td>\n",
              "    </tr>\n",
              "    <tr>\n",
              "      <th>24</th>\n",
              "      <td>sellerNoOfReviews</td>\n",
              "      <td>0</td>\n",
              "      <td>0.000000</td>\n",
              "      <td>44001</td>\n",
              "    </tr>\n",
              "    <tr>\n",
              "      <th>25</th>\n",
              "      <td>sleeve</td>\n",
              "      <td>343</td>\n",
              "      <td>0.779528</td>\n",
              "      <td>44001</td>\n",
              "    </tr>\n",
              "    <tr>\n",
              "      <th>26</th>\n",
              "      <td>neck</td>\n",
              "      <td>22631</td>\n",
              "      <td>51.432922</td>\n",
              "      <td>44001</td>\n",
              "    </tr>\n",
              "  </tbody>\n",
              "</table>\n",
              "</div>"
            ],
            "text/plain": [
              "                columns  number_of_nulls  percentage_null  total_rows\n",
              "0             productId                0         0.000000       44001\n",
              "1                 title                0         0.000000       44001\n",
              "2           description            20920        47.544374       44001\n",
              "3           imageUrlStr                0         0.000000       44001\n",
              "4                   mrp                0         0.000000       44001\n",
              "5          sellingPrice                0         0.000000       44001\n",
              "6          specialPrice                0         0.000000       44001\n",
              "7            productUrl                0         0.000000       44001\n",
              "8            categories                0         0.000000       44001\n",
              "9          productBrand                0         0.000000       44001\n",
              "10        productFamily                0         0.000000       44001\n",
              "11              inStock                0         0.000000       44001\n",
              "12         codAvailable                0         0.000000       44001\n",
              "13             discount                0         0.000000       44001\n",
              "14      shippingCharges                0         0.000000       44001\n",
              "15         deliveryTime            29394        66.803027       44001\n",
              "16                 size                0         0.000000       44001\n",
              "17                color              524         1.190882       44001\n",
              "18             sizeUnit            43466        98.784119       44001\n",
              "19          keySpecsStr                7         0.015909       44001\n",
              "20     detailedSpecsStr                7         0.015909       44001\n",
              "21           sellerName                0         0.000000       44001\n",
              "22  sellerAverageRating                0         0.000000       44001\n",
              "23    sellerNoOfRatings                0         0.000000       44001\n",
              "24    sellerNoOfReviews                0         0.000000       44001\n",
              "25               sleeve              343         0.779528       44001\n",
              "26                 neck            22631        51.432922       44001"
            ]
          },
          "metadata": {
            "tags": []
          },
          "execution_count": 68
        }
      ]
    },
    {
      "metadata": {
        "id": "Pc5xsounPpa9",
        "colab_type": "text"
      },
      "cell_type": "markdown",
      "source": [
        "### Drop columns DeliveryTime ,sizeUnit\n",
        ">### ->I think DropTime cannot be good differentiator for duplicates and sizeUnit column is almost null"
      ]
    },
    {
      "metadata": {
        "id": "M7Y2z1O-Q2IO",
        "colab_type": "code",
        "colab": {}
      },
      "cell_type": "code",
      "source": [
        "df_tops = df_tops.drop(columns=['deliveryTime','sizeUnit'])\n",
        "df_tunics = df_tunics.drop(columns=['deliveryTime','sizeUnit'])"
      ],
      "execution_count": 0,
      "outputs": []
    },
    {
      "metadata": {
        "id": "z5vnk7VaS_GX",
        "colab_type": "text"
      },
      "cell_type": "markdown",
      "source": [
        "#### Since Most of columns have null percentage in range of 0.01 \n"
      ]
    },
    {
      "metadata": {
        "id": "-p8DlUfQUKws",
        "colab_type": "code",
        "colab": {}
      },
      "cell_type": "code",
      "source": [
        "## Select every column except 'description'\n",
        "remove_col_tops=[nam for nam in df_tops.columns.tolist() if nam!='description']\n",
        "remove_col_tunics = [t for t in df_tunics.columns.tolist() if t!='description' and t!='neck' ]"
      ],
      "execution_count": 0,
      "outputs": []
    },
    {
      "metadata": {
        "id": "udUih1gqTm9z",
        "colab_type": "code",
        "colab": {}
      },
      "cell_type": "code",
      "source": [
        "df_tops=df_tops.dropna(subset=remove_col_tops)\n",
        "df_tunics = df_tunics.dropna(subset=remove_col_tunics)"
      ],
      "execution_count": 0,
      "outputs": []
    },
    {
      "metadata": {
        "id": "0tzJeYxs3VAl",
        "colab_type": "code",
        "colab": {}
      },
      "cell_type": "code",
      "source": [
        "df_tops_=df_tops.drop_duplicates(subset=['productId'])\n",
        "df_tunics = df_tunics.drop_duplicates(subset=['productId'])"
      ],
      "execution_count": 0,
      "outputs": []
    },
    {
      "metadata": {
        "id": "FcGEKVUXcxpE",
        "colab_type": "code",
        "colab": {}
      },
      "cell_type": "code",
      "source": [
        "def img_urls_bysizes(url):\n",
        "  \n",
        "  return url.split(\";\")[0]\n",
        "  "
      ],
      "execution_count": 0,
      "outputs": []
    },
    {
      "metadata": {
        "id": "3JnSDvXcNu7u",
        "colab_type": "text"
      },
      "cell_type": "markdown",
      "source": [
        "#### Fix ProductBrand and ProductSeller Names"
      ]
    },
    {
      "metadata": {
        "id": "xZIvKQW7d0wU",
        "colab_type": "code",
        "colab": {}
      },
      "cell_type": "code",
      "source": [
        "df_tops['original_imgsizes']=df_tops['imageUrlStr'].apply(img_urls_bysizes)\n",
        "\n",
        "df_tunics['original_imgsizes']=df_tunics['imageUrlStr'].apply(img_urls_bysizes)"
      ],
      "execution_count": 0,
      "outputs": []
    },
    {
      "metadata": {
        "id": "2CQVrA3kXBwO",
        "colab_type": "code",
        "colab": {}
      },
      "cell_type": "code",
      "source": [
        "def get_original_names(name):\n",
        "  l = len(name)\n",
        "  \n",
        "  for gap in range(1,l):\n",
        "    for index in range(0,l,gap):\n",
        "      pass"
      ],
      "execution_count": 0,
      "outputs": []
    },
    {
      "metadata": {
        "id": "cteRZGBKbXXa",
        "colab_type": "code",
        "colab": {}
      },
      "cell_type": "code",
      "source": [
        "get_original_names(\"malinimalini\")"
      ],
      "execution_count": 0,
      "outputs": []
    },
    {
      "metadata": {
        "id": "9Ydiamzno5d6",
        "colab_type": "text"
      },
      "cell_type": "markdown",
      "source": [
        "### Extract Neck and sleeve features from keySpecsStr column"
      ]
    },
    {
      "metadata": {
        "id": "34loTutlrhax",
        "colab_type": "text"
      },
      "cell_type": "markdown",
      "source": [
        "### do data cleaning for description and seller name columns"
      ]
    },
    {
      "metadata": {
        "id": "Y1DgEQjEBUhR",
        "colab_type": "code",
        "colab": {}
      },
      "cell_type": "code",
      "source": [
        "special_characters = \"[!@#$%^&*()[]{};:,./<>?\\|`~-=_+]\""
      ],
      "execution_count": 0,
      "outputs": []
    },
    {
      "metadata": {
        "id": "XC3n1YtsBnP5",
        "colab_type": "code",
        "colab": {}
      },
      "cell_type": "code",
      "source": [
        "def replace_(stri,org):\n",
        "  try:\n",
        "    ass = stri[0]\n",
        "  except IndexError:\n",
        "    return org\n",
        "  \n",
        "  return replace_(stri[1:],org.replace(ass,\"\"))"
      ],
      "execution_count": 0,
      "outputs": []
    },
    {
      "metadata": {
        "id": "u6jx-sugQ6kE",
        "colab_type": "code",
        "colab": {}
      },
      "cell_type": "code",
      "source": [
        "df_tops['description']=df_tops['description'].fillna(\"\")\n",
        "df_tunics['description']=df_tunics['description'].fillna(\"\")"
      ],
      "execution_count": 0,
      "outputs": []
    },
    {
      "metadata": {
        "id": "MTRJ8Lw7Je1j",
        "colab_type": "code",
        "colab": {}
      },
      "cell_type": "code",
      "source": [
        "clean_data=lambda des : replace_(special_characters,des).replace(\"'\",\"\").lower().lstrip()"
      ],
      "execution_count": 0,
      "outputs": []
    },
    {
      "metadata": {
        "id": "QUt1cp_q-W4s",
        "colab_type": "code",
        "colab": {}
      },
      "cell_type": "code",
      "source": [
        "df_tops['description']=df_tops['description'].apply(clean_data)\n",
        "df_tunics['description']=df_tunics['description'].apply(clean_data)"
      ],
      "execution_count": 0,
      "outputs": []
    },
    {
      "metadata": {
        "id": "cc-6uYBn8qbV",
        "colab_type": "code",
        "colab": {}
      },
      "cell_type": "code",
      "source": [
        "df_tops['sellerName']=df_tops['sellerName'].apply(lambda nam : nam.replace(\" \",\"_\").lower().strip())\n",
        "df_tunics['sellerName']=df_tunics['sellerName'].apply(lambda nam : nam.replace(\" \",\"_\").lower().strip())"
      ],
      "execution_count": 0,
      "outputs": []
    },
    {
      "metadata": {
        "id": "PZkrPGhx9Cz2",
        "colab_type": "code",
        "colab": {}
      },
      "cell_type": "code",
      "source": [
        "df_tops['title']=df_tops['title'].apply(clean_data)\n",
        "df_tunics['title']=df_tunics['title'].apply(clean_data)"
      ],
      "execution_count": 0,
      "outputs": []
    },
    {
      "metadata": {
        "id": "ZS0VeWT6auW7",
        "colab_type": "code",
        "colab": {}
      },
      "cell_type": "code",
      "source": [
        "df_tops['productBrand']=df_tops['productBrand'].apply(clean_data).apply(lambda e : e.replace(\" \",\"_\"))\n",
        "df_tunics['productBrand']=df_tunics['productBrand'].apply(clean_data).apply(lambda e : e.replace(\" \",\"_\"))"
      ],
      "execution_count": 0,
      "outputs": []
    },
    {
      "metadata": {
        "id": "HrBB0S9Tkt9s",
        "colab_type": "text"
      },
      "cell_type": "markdown",
      "source": [
        "### There are multiple cases of duplicates\n",
        ">#### Case 1: Same Pattern different Colours\n",
        ">>#### Seller Creates seperate pages for same tops with same design patterns  but with different colours  on different urls\n",
        "\n",
        ">#### Case 2: Different Sizes\n",
        "\n",
        ">>#### Seller create similar  webpages with different urls using same  images  for  different sizes .\n"
      ]
    },
    {
      "metadata": {
        "id": "KsvS2ptZo8cE",
        "colab_type": "text"
      },
      "cell_type": "markdown",
      "source": [
        "### Here we investigate first case\n",
        "> #### KeySpecsStr is best feature so far i came to identify duplicate products of type 1.\n",
        "\n",
        ">### we groupby sellername,productbrand,keySPecsStr\n",
        ">### 'KeySpecsStr' is key differentiator for detecting the same pattern dresses And it is stronger feature than description \n",
        ">### because some sellers used same description for different products and different description for same images \n",
        "\n",
        ">### I observed that if we groupby description different products ended up in same index level or by bucket"
      ]
    },
    {
      "metadata": {
        "id": "FIS7mN-MT7tu",
        "colab_type": "text"
      },
      "cell_type": "markdown",
      "source": [
        "### we take non numerical columns just for demo "
      ]
    },
    {
      "metadata": {
        "id": "lbBVGPzrb7rX",
        "colab_type": "code",
        "colab": {}
      },
      "cell_type": "code",
      "source": [
        "de_tops=df_tops[['sellerName','productBrand','keySpecsStr','color','original_imgsizes','productUrl']]\n",
        "de_tunics=df_tunics[['sellerName','productBrand','keySpecsStr','color','original_imgsizes','productUrl']]"
      ],
      "execution_count": 0,
      "outputs": []
    },
    {
      "metadata": {
        "id": "l5qboLOuEqVS",
        "colab_type": "code",
        "colab": {
          "base_uri": "https://localhost:8080/",
          "height": 34
        },
        "outputId": "a3f9bfff-2274-4164-f9d0-0d408264512d"
      },
      "cell_type": "code",
      "source": [
        "# de_tops.shape"
      ],
      "execution_count": 207,
      "outputs": [
        {
          "output_type": "execute_result",
          "data": {
            "text/plain": [
              "(341712, 6)"
            ]
          },
          "metadata": {
            "tags": []
          },
          "execution_count": 207
        }
      ]
    },
    {
      "metadata": {
        "id": "ugcxXslN_iO5",
        "colab_type": "code",
        "colab": {}
      },
      "cell_type": "code",
      "source": [
        "# de_tunics"
      ],
      "execution_count": 0,
      "outputs": []
    },
    {
      "metadata": {
        "id": "inJcCt1z_CSU",
        "colab_type": "code",
        "colab": {}
      },
      "cell_type": "code",
      "source": [
        "# df_tops.columns.tolist()"
      ],
      "execution_count": 0,
      "outputs": []
    },
    {
      "metadata": {
        "id": "lKRB_OVc7hZ0",
        "colab_type": "code",
        "colab": {}
      },
      "cell_type": "code",
      "source": [
        "demo_tops=de_tops.groupby(by=['sellerName','productBrand','keySpecsStr','color'])\n",
        "demo_tunics=de_tunics.groupby(by=['sellerName','productBrand','keySpecsStr','color'])"
      ],
      "execution_count": 0,
      "outputs": []
    },
    {
      "metadata": {
        "id": "dqw2QKQMDcWr",
        "colab_type": "code",
        "colab": {}
      },
      "cell_type": "code",
      "source": [
        "temp_tops=demo_tops.sum()"
      ],
      "execution_count": 0,
      "outputs": []
    },
    {
      "metadata": {
        "id": "06N18_x-GOBN",
        "colab_type": "text"
      },
      "cell_type": "markdown",
      "source": [
        "### Takes some time to groupby"
      ]
    },
    {
      "metadata": {
        "id": "RAO7bxkrDzmy",
        "colab_type": "code",
        "colab": {
          "base_uri": "https://localhost:8080/",
          "height": 309
        },
        "outputId": "b5873955-ddc7-413d-b220-72ac5eefb536"
      },
      "cell_type": "code",
      "source": [
        "temp_tops.head()"
      ],
      "execution_count": 193,
      "outputs": [
        {
          "output_type": "execute_result",
          "data": {
            "text/html": [
              "<div>\n",
              "<style scoped>\n",
              "    .dataframe tbody tr th:only-of-type {\n",
              "        vertical-align: middle;\n",
              "    }\n",
              "\n",
              "    .dataframe tbody tr th {\n",
              "        vertical-align: top;\n",
              "    }\n",
              "\n",
              "    .dataframe thead th {\n",
              "        text-align: right;\n",
              "    }\n",
              "</style>\n",
              "<table border=\"1\" class=\"dataframe\">\n",
              "  <thead>\n",
              "    <tr style=\"text-align: right;\">\n",
              "      <th></th>\n",
              "      <th></th>\n",
              "      <th></th>\n",
              "      <th></th>\n",
              "      <th>original_imgsizes</th>\n",
              "      <th>productUrl</th>\n",
              "    </tr>\n",
              "    <tr>\n",
              "      <th>sellerName</th>\n",
              "      <th>productBrand</th>\n",
              "      <th>keySpecsStr</th>\n",
              "      <th>color</th>\n",
              "      <th></th>\n",
              "      <th></th>\n",
              "    </tr>\n",
              "  </thead>\n",
              "  <tbody>\n",
              "    <tr>\n",
              "      <th rowspan=\"2\" valign=\"top\">2day_fashion_</th>\n",
              "      <th rowspan=\"2\" valign=\"top\">tooba</th>\n",
              "      <th>Round Neck, Sleeveless;Fabric: Cotton;Pattern: Striped;Type: Top;Pack of 3</th>\n",
              "      <th>Multicolor</th>\n",
              "      <td>http://img.fkcdn.com/image/top/g/3/g/strp-top-...</td>\n",
              "      <td>http://dl.flipkart.com/dl/tooba-casual-sleevel...</td>\n",
              "    </tr>\n",
              "    <tr>\n",
              "      <th>Round Neck, Sleeveless;Fabric: Georgette;Pattern: Printed;Type: Top;Pack of 2</th>\n",
              "      <th>Multicolor</th>\n",
              "      <td>http://img.fkcdn.com/image/top/g/x/t/top-pck-2...</td>\n",
              "      <td>http://dl.flipkart.com/dl/tooba-casual-sleevel...</td>\n",
              "    </tr>\n",
              "    <tr>\n",
              "      <th rowspan=\"3\" valign=\"top\">99yrs_network_llp</th>\n",
              "      <th rowspan=\"3\" valign=\"top\">aqva</th>\n",
              "      <th>Round Neck, 3/4th Sleeve;Fabric: Cotton;Pattern: Printed;Type: Top;Pack of 1</th>\n",
              "      <th>Red</th>\n",
              "      <td>http://img.fkcdn.com/image/top/y/s/k/aq76260-b...</td>\n",
              "      <td>http://dl.flipkart.com/dl/aqva-casual-3-4th-sl...</td>\n",
              "    </tr>\n",
              "    <tr>\n",
              "      <th rowspan=\"2\" valign=\"top\">U Neck, 3/4th Sleeve;Fabric: Cotton;Pattern: Printed;Type: Top;Pack of 1</th>\n",
              "      <th>Black</th>\n",
              "      <td>http://img.fkcdn.com/image/top/j/g/v/aq76260-b...</td>\n",
              "      <td>http://dl.flipkart.com/dl/aqva-casual-3-4th-sl...</td>\n",
              "    </tr>\n",
              "    <tr>\n",
              "      <th>Blue</th>\n",
              "      <td>http://img.fkcdn.com/image/top/m/h/3/aq76260-b...</td>\n",
              "      <td>http://dl.flipkart.com/dl/aqva-casual-3-4th-sl...</td>\n",
              "    </tr>\n",
              "  </tbody>\n",
              "</table>\n",
              "</div>"
            ],
            "text/plain": [
              "                                                                                                                              original_imgsizes  \\\n",
              "sellerName        productBrand keySpecsStr                                        color                                                           \n",
              "2day_fashion_     tooba        Round Neck, Sleeveless;Fabric: Cotton;Pattern: ... Multicolor  http://img.fkcdn.com/image/top/g/3/g/strp-top-...   \n",
              "                               Round Neck, Sleeveless;Fabric: Georgette;Patter... Multicolor  http://img.fkcdn.com/image/top/g/x/t/top-pck-2...   \n",
              "99yrs_network_llp aqva         Round Neck, 3/4th Sleeve;Fabric: Cotton;Pattern... Red         http://img.fkcdn.com/image/top/y/s/k/aq76260-b...   \n",
              "                               U Neck, 3/4th Sleeve;Fabric: Cotton;Pattern: Pr... Black       http://img.fkcdn.com/image/top/j/g/v/aq76260-b...   \n",
              "                                                                                  Blue        http://img.fkcdn.com/image/top/m/h/3/aq76260-b...   \n",
              "\n",
              "                                                                                                                                     productUrl  \n",
              "sellerName        productBrand keySpecsStr                                        color                                                          \n",
              "2day_fashion_     tooba        Round Neck, Sleeveless;Fabric: Cotton;Pattern: ... Multicolor  http://dl.flipkart.com/dl/tooba-casual-sleevel...  \n",
              "                               Round Neck, Sleeveless;Fabric: Georgette;Patter... Multicolor  http://dl.flipkart.com/dl/tooba-casual-sleevel...  \n",
              "99yrs_network_llp aqva         Round Neck, 3/4th Sleeve;Fabric: Cotton;Pattern... Red         http://dl.flipkart.com/dl/aqva-casual-3-4th-sl...  \n",
              "                               U Neck, 3/4th Sleeve;Fabric: Cotton;Pattern: Pr... Black       http://dl.flipkart.com/dl/aqva-casual-3-4th-sl...  \n",
              "                                                                                  Blue        http://dl.flipkart.com/dl/aqva-casual-3-4th-sl...  "
            ]
          },
          "metadata": {
            "tags": []
          },
          "execution_count": 193
        }
      ]
    },
    {
      "metadata": {
        "id": "oCf58JgiC6Yg",
        "colab_type": "code",
        "colab": {}
      },
      "cell_type": "code",
      "source": [
        "third_level_1=\"Occasion: Casual;Fabric: Rayon;Hemline: U-shape;Sleeve: 3/4th Sleeve;Pattern: Printed\""
      ],
      "execution_count": 0,
      "outputs": []
    },
    {
      "metadata": {
        "id": "mMijtVXhUsip",
        "colab_type": "code",
        "colab": {}
      },
      "cell_type": "code",
      "source": [
        "third_level = \"U Neck, 3/4th Sleeve;Fabric: Cotton;Pattern: Printed;Type: Top;Pack of 1\""
      ],
      "execution_count": 0,
      "outputs": []
    },
    {
      "metadata": {
        "id": "_V-guC_gGMyz",
        "colab_type": "text"
      },
      "cell_type": "markdown",
      "source": [
        ""
      ]
    },
    {
      "metadata": {
        "id": "KjH5GjyNG8HC",
        "colab_type": "code",
        "colab": {}
      },
      "cell_type": "code",
      "source": [
        "some_sort_0=temp_tops.loc['99yrs_network_llp','aqva',third_level,:]"
      ],
      "execution_count": 0,
      "outputs": []
    },
    {
      "metadata": {
        "id": "tPfAwGKUSBUC",
        "colab_type": "text"
      },
      "cell_type": "markdown",
      "source": [
        ""
      ]
    },
    {
      "metadata": {
        "id": "W6hp3vYvjTta",
        "colab_type": "code",
        "colab": {
          "base_uri": "https://localhost:8080/",
          "height": 309
        },
        "outputId": "ecbb4e06-f03a-4ad6-9385-47cb960f0b06"
      },
      "cell_type": "code",
      "source": [
        "some_sort_0.head()"
      ],
      "execution_count": 200,
      "outputs": [
        {
          "output_type": "execute_result",
          "data": {
            "text/html": [
              "<div>\n",
              "<style scoped>\n",
              "    .dataframe tbody tr th:only-of-type {\n",
              "        vertical-align: middle;\n",
              "    }\n",
              "\n",
              "    .dataframe tbody tr th {\n",
              "        vertical-align: top;\n",
              "    }\n",
              "\n",
              "    .dataframe thead th {\n",
              "        text-align: right;\n",
              "    }\n",
              "</style>\n",
              "<table border=\"1\" class=\"dataframe\">\n",
              "  <thead>\n",
              "    <tr style=\"text-align: right;\">\n",
              "      <th></th>\n",
              "      <th></th>\n",
              "      <th></th>\n",
              "      <th></th>\n",
              "      <th>original_imgsizes</th>\n",
              "      <th>productUrl</th>\n",
              "    </tr>\n",
              "    <tr>\n",
              "      <th>sellerName</th>\n",
              "      <th>productBrand</th>\n",
              "      <th>keySpecsStr</th>\n",
              "      <th>color</th>\n",
              "      <th></th>\n",
              "      <th></th>\n",
              "    </tr>\n",
              "  </thead>\n",
              "  <tbody>\n",
              "    <tr>\n",
              "      <th rowspan=\"5\" valign=\"top\">99yrs_network_llp</th>\n",
              "      <th rowspan=\"5\" valign=\"top\">aqva</th>\n",
              "      <th rowspan=\"5\" valign=\"top\">U Neck, 3/4th Sleeve;Fabric: Cotton;Pattern: Printed;Type: Top;Pack of 1</th>\n",
              "      <th>Black</th>\n",
              "      <td>http://img.fkcdn.com/image/top/j/g/v/aq76260-b...</td>\n",
              "      <td>http://dl.flipkart.com/dl/aqva-casual-3-4th-sl...</td>\n",
              "    </tr>\n",
              "    <tr>\n",
              "      <th>Blue</th>\n",
              "      <td>http://img.fkcdn.com/image/top/m/h/3/aq76260-b...</td>\n",
              "      <td>http://dl.flipkart.com/dl/aqva-casual-3-4th-sl...</td>\n",
              "    </tr>\n",
              "    <tr>\n",
              "      <th>Crimson</th>\n",
              "      <td>http://img.fkcdn.com/image/top/v/b/z/aq64160b-...</td>\n",
              "      <td>http://dl.flipkart.com/dl/aqva-casual-3-4th-sl...</td>\n",
              "    </tr>\n",
              "    <tr>\n",
              "      <th>Crimson Sand</th>\n",
              "      <td>http://img.fkcdn.com/image/top/z/f/w/aq76275-b...</td>\n",
              "      <td>http://dl.flipkart.com/dl/aqva-casual-3-4th-sl...</td>\n",
              "    </tr>\n",
              "    <tr>\n",
              "      <th>Lime</th>\n",
              "      <td>http://img.fkcdn.com/image/top/a/y/c/aq76260-b...</td>\n",
              "      <td>http://dl.flipkart.com/dl/aqva-casual-3-4th-sl...</td>\n",
              "    </tr>\n",
              "  </tbody>\n",
              "</table>\n",
              "</div>"
            ],
            "text/plain": [
              "                                                                                                                                original_imgsizes  \\\n",
              "sellerName        productBrand keySpecsStr                                        color                                                             \n",
              "99yrs_network_llp aqva         U Neck, 3/4th Sleeve;Fabric: Cotton;Pattern: Pr... Black         http://img.fkcdn.com/image/top/j/g/v/aq76260-b...   \n",
              "                                                                                  Blue          http://img.fkcdn.com/image/top/m/h/3/aq76260-b...   \n",
              "                                                                                  Crimson       http://img.fkcdn.com/image/top/v/b/z/aq64160b-...   \n",
              "                                                                                  Crimson Sand  http://img.fkcdn.com/image/top/z/f/w/aq76275-b...   \n",
              "                                                                                  Lime          http://img.fkcdn.com/image/top/a/y/c/aq76260-b...   \n",
              "\n",
              "                                                                                                                                       productUrl  \n",
              "sellerName        productBrand keySpecsStr                                        color                                                            \n",
              "99yrs_network_llp aqva         U Neck, 3/4th Sleeve;Fabric: Cotton;Pattern: Pr... Black         http://dl.flipkart.com/dl/aqva-casual-3-4th-sl...  \n",
              "                                                                                  Blue          http://dl.flipkart.com/dl/aqva-casual-3-4th-sl...  \n",
              "                                                                                  Crimson       http://dl.flipkart.com/dl/aqva-casual-3-4th-sl...  \n",
              "                                                                                  Crimson Sand  http://dl.flipkart.com/dl/aqva-casual-3-4th-sl...  \n",
              "                                                                                  Lime          http://dl.flipkart.com/dl/aqva-casual-3-4th-sl...  "
            ]
          },
          "metadata": {
            "tags": []
          },
          "execution_count": 200
        }
      ]
    },
    {
      "metadata": {
        "id": "4m3V_IFleOLi",
        "colab_type": "code",
        "colab": {}
      },
      "cell_type": "code",
      "source": [
        "imgs_to_download=some_sort_0.original_imgsizes.tolist()"
      ],
      "execution_count": 0,
      "outputs": []
    },
    {
      "metadata": {
        "id": "WojBPI2ELPP-",
        "colab_type": "code",
        "colab": {}
      },
      "cell_type": "code",
      "source": [
        "imgs_to_download = [\"http\"+image_url.split(\"http\")[1] for image_url in imgs_to_download]"
      ],
      "execution_count": 0,
      "outputs": []
    },
    {
      "metadata": {
        "id": "tvzOoJQFUHkN",
        "colab_type": "text"
      },
      "cell_type": "markdown",
      "source": [
        "#### Download the images for manual observation"
      ]
    },
    {
      "metadata": {
        "id": "37ieBd4ST1sT",
        "colab_type": "code",
        "colab": {}
      },
      "cell_type": "code",
      "source": [
        "import requests\n",
        "\n",
        "for index_,img_url in enumerate(imgs_to_download):\n",
        "  res=requests.get(img_url)\n",
        "  with open(\"img_\"+str(index_)+\".jpeg\",\"wb\") as e:\n",
        "    e.write(res._content)\n",
        "    e.close()"
      ],
      "execution_count": 0,
      "outputs": []
    },
    {
      "metadata": {
        "id": "jg4WvrBfI5yx",
        "colab_type": "code",
        "colab": {
          "base_uri": "https://localhost:8080/",
          "height": 101
        },
        "outputId": "84ec4c5a-87dc-470c-e38f-3f2be3297017"
      },
      "cell_type": "code",
      "source": [
        "ls -sh"
      ],
      "execution_count": 204,
      "outputs": [
        {
          "output_type": "stream",
          "text": [
            "total 1.3G\r\n",
            "4.0K \u001b[0m\u001b[01;34mdatalab\u001b[0m/     296K img_12.jpeg  220K img_4.jpeg  240K img_8.jpeg\r\n",
            "308K img_0.jpeg   292K img_1.jpeg   312K img_5.jpeg  236K img_9.jpeg\r\n",
            "356K img_10.jpeg  296K img_2.jpeg   308K img_6.jpeg  1.3G small-2oq-c1r.csv\r\n",
            "308K img_11.jpeg  312K img_3.jpeg   356K img_7.jpeg\r\n"
          ],
          "name": "stdout"
        }
      ]
    },
    {
      "metadata": {
        "id": "wSa7LH1AarX_",
        "colab_type": "text"
      },
      "cell_type": "markdown",
      "source": [
        "### Both below  images have same pattern but they are found in the different webpage urls\n"
      ]
    },
    {
      "metadata": {
        "id": "EhOd-DUDFVIw",
        "colab_type": "text"
      },
      "cell_type": "markdown",
      "source": [
        "#### Solely using keySpecsStr may not be isolate tops with same pattern together"
      ]
    },
    {
      "metadata": {
        "id": "UfaKIB_LHO-B",
        "colab_type": "text"
      },
      "cell_type": "markdown",
      "source": [
        "### U will also find that descriptions from productUrl pages are different for same pattern shirts\n",
        "### I think that description is not good feature for duplicate detection"
      ]
    },
    {
      "metadata": {
        "id": "yJta4AYRGTQG",
        "colab_type": "text"
      },
      "cell_type": "markdown",
      "source": [
        "### From here we would like to extract features from images"
      ]
    },
    {
      "metadata": {
        "id": "n85e8aILI2ru",
        "colab_type": "code",
        "colab": {
          "base_uri": "https://localhost:8080/",
          "height": 442
        },
        "outputId": "2acf5969-fedf-413f-9f8b-0f47389658e4"
      },
      "cell_type": "code",
      "source": [
        "#@title right most three images have same pattern and we  would usually see all three images shown as a same product in the aweb page but not in this dataset they have different urls\n",
        "\n",
        "%%HTML\n",
        "<div class=\"row\">\n",
        "  <div class=\"column\">\n",
        "    <img src=\"http://img.fkcdn.com/image/top/j/g/v/aq76260-b-rcrbl-aqva-xl-original-imaepz7rjma6mzsf.jpeg\" alt=\"Snow\" style=\"width:13%\">  \n",
        "    <img src=\"http://img.fkcdn.com/image/top/m/h/3/aq76260-b-rcrb-aqva-s-original-imaepz7rbzck72nz.jpeg\" alt=\"Forest\" style=\"width:13%\">\n",
        "    <img src=\"http://img.fkcdn.com/image/top/a/y/c/aq76260-b-rcrli-aqva-l-original-imaepz7rrawjwag2.jpeg\" alt=\"Mountains\" style=\"width:15%\">\n",
        "    \n",
        "    <img src=\"http://img.fkcdn.com/image/top/d/t/u/aq64160b-a-abtnv-aqva-s-original-imaepz7rzfchvzwx.jpeg\" alt=\"Mountains\" style=\"width:17%\">\n",
        "    <img src =\"http://img.fkcdn.com/image/top/4/v/x/aq64160b-a-abtor-aqva-l-original-imaepz7rhdgg7yhd.jpeg\" alt =\"flask\" style = \"width:15%\">\n",
        "    <img src=\"http://img.fkcdn.com/image/top/v/a/f/aq64160b-a-abtp-aqva-l-original-imaepz7rkhbhz7rk.jpeg\" alt = \"somthing\" style =\"width:13%\">\n",
        "  </div>\n",
        "</div>"
      ],
      "execution_count": 370,
      "outputs": [
        {
          "output_type": "display_data",
          "data": {
            "text/plain": [
              "<IPython.core.display.HTML object>"
            ],
            "text/html": [
              "<div class=\"row\">\n",
              "  <div class=\"column\">\n",
              "    <img src=\"http://img.fkcdn.com/image/top/j/g/v/aq76260-b-rcrbl-aqva-xl-original-imaepz7rjma6mzsf.jpeg\" alt=\"Snow\" style=\"width:13%\">  \n",
              "    <img src=\"http://img.fkcdn.com/image/top/m/h/3/aq76260-b-rcrb-aqva-s-original-imaepz7rbzck72nz.jpeg\" alt=\"Forest\" style=\"width:13%\">\n",
              "    <img src=\"http://img.fkcdn.com/image/top/a/y/c/aq76260-b-rcrli-aqva-l-original-imaepz7rrawjwag2.jpeg\" alt=\"Mountains\" style=\"width:15%\">\n",
              "    \n",
              "    <img src=\"http://img.fkcdn.com/image/top/d/t/u/aq64160b-a-abtnv-aqva-s-original-imaepz7rzfchvzwx.jpeg\" alt=\"Mountains\" style=\"width:17%\">\n",
              "    <img src =\"http://img.fkcdn.com/image/top/4/v/x/aq64160b-a-abtor-aqva-l-original-imaepz7rhdgg7yhd.jpeg\" alt =\"flask\" style = \"width:15%\">\n",
              "    <img src=\"http://img.fkcdn.com/image/top/v/a/f/aq64160b-a-abtp-aqva-l-original-imaepz7rkhbhz7rk.jpeg\" alt = \"somthing\" style =\"width:13%\">\n",
              "  </div>\n",
              "</div>"
            ]
          },
          "metadata": {
            "tags": []
          }
        }
      ]
    },
    {
      "metadata": {
        "id": "U7fhm2w6Sa9v",
        "colab_type": "code",
        "colab": {
          "base_uri": "https://localhost:8080/",
          "height": 514
        },
        "outputId": "e36c6136-3606-4827-c793-2181f4993477"
      },
      "cell_type": "code",
      "source": [
        "#@title first three had exact patterns but different colurs so were last two\n",
        "%%HTML\n",
        "<div class=\"row\">\n",
        "  <div class=\"column\">\n",
        "    \n",
        "    <img src =\"http://img.fkcdn.com/image/top/v/g/q/aq76275-btnvsk-aqva-xl-original-imaepz7rqgzbzupe.jpeg\" alt =\"something4\" style=\"width:15%\">\n",
        "     <img src =\"http://img.fkcdn.com/image/top/2/4/g/aq76275-btsf-aqva-xl-original-imaepz7raetxrchh.jpeg\" alt=\"something5\" style=\"width:15%\">\n",
        "    <img src=\"http://img.fkcdn.com/image/top/z/f/w/aq76275-btcs-aqva-m-original-imaepz7rgwrzbafz.jpeg\" alt=\"something4\" style=\"width:15%\">\n",
        "    \n",
        "    <img src=\"http://img.fkcdn.com/image/top/3/y/s/aq76275-a-hflr-aqva-l-original-imaepz7rzrk2zjc8.jpeg\" alt =\"somthing3\" style=\"width:18%\">\n",
        "    <img src =\"http://img.fkcdn.com/image/top/d/n/z/aq76275-a-hflsk-aqva-l-original-imaepz7rzfhgdpqq.jpeg\" alt=\"somthnig2\" style  =\"width:20%\">\n",
        "\n",
        "</div>\n",
        "</div>"
      ],
      "execution_count": 371,
      "outputs": [
        {
          "output_type": "display_data",
          "data": {
            "text/plain": [
              "<IPython.core.display.HTML object>"
            ],
            "text/html": [
              "<div class=\"row\">\n",
              "  <div class=\"column\">\n",
              "    \n",
              "    <img src =\"http://img.fkcdn.com/image/top/v/g/q/aq76275-btnvsk-aqva-xl-original-imaepz7rqgzbzupe.jpeg\" alt =\"something4\" style=\"width:15%\">\n",
              "     <img src =\"http://img.fkcdn.com/image/top/2/4/g/aq76275-btsf-aqva-xl-original-imaepz7raetxrchh.jpeg\" alt=\"something5\" style=\"width:15%\">\n",
              "    <img src=\"http://img.fkcdn.com/image/top/z/f/w/aq76275-btcs-aqva-m-original-imaepz7rgwrzbafz.jpeg\" alt=\"something4\" style=\"width:15%\">\n",
              "    \n",
              "    <img src=\"http://img.fkcdn.com/image/top/3/y/s/aq76275-a-hflr-aqva-l-original-imaepz7rzrk2zjc8.jpeg\" alt =\"somthing3\" style=\"width:18%\">\n",
              "    <img src =\"http://img.fkcdn.com/image/top/d/n/z/aq76275-a-hflsk-aqva-l-original-imaepz7rzfhgdpqq.jpeg\" alt=\"somthnig2\" style  =\"width:20%\">\n",
              "\n",
              "</div>\n",
              "</div>"
            ]
          },
          "metadata": {
            "tags": []
          }
        }
      ]
    },
    {
      "metadata": {
        "id": "_VLGLY7kXzF9",
        "colab_type": "text"
      },
      "cell_type": "markdown",
      "source": [
        "### I beleive that combining the image fearures with text give us best chance"
      ]
    },
    {
      "metadata": {
        "id": "0IFZuehzQm2b",
        "colab_type": "code",
        "colab": {}
      },
      "cell_type": "code",
      "source": [
        "fourth=[12,10] ### hexagonal pattern / above to the last right "
      ],
      "execution_count": 0,
      "outputs": []
    },
    {
      "metadata": {
        "id": "9b7TAeTzRULw",
        "colab_type": "code",
        "colab": {}
      },
      "cell_type": "code",
      "source": [
        "third=[7,11,3] ### square pattern tops /above first three "
      ],
      "execution_count": 0,
      "outputs": []
    },
    {
      "metadata": {
        "id": "HFFo2-aBTiyq",
        "colab_type": "code",
        "colab": {}
      },
      "cell_type": "code",
      "source": [
        "first=[0,1,4] ### Leaf pattern tops / first three\n",
        "second=[6,8,9] ### "
      ],
      "execution_count": 0,
      "outputs": []
    },
    {
      "metadata": {
        "id": "9LrzeTSBe1yR",
        "colab_type": "code",
        "colab": {}
      },
      "cell_type": "code",
      "source": [
        "from skimage.feature import local_binary_pattern\n",
        "import cv2\n",
        "from scipy.stats import itemfreq"
      ],
      "execution_count": 0,
      "outputs": []
    },
    {
      "metadata": {
        "id": "_3K02xcygQQQ",
        "colab_type": "code",
        "colab": {
          "base_uri": "https://localhost:8080/",
          "height": 101
        },
        "outputId": "ef520f7c-5f75-4dfd-ffbe-d22fefe9b3a5"
      },
      "cell_type": "code",
      "source": [
        "ls -sh"
      ],
      "execution_count": 397,
      "outputs": [
        {
          "output_type": "stream",
          "text": [
            "total 1.3G\r\n",
            "4.0K \u001b[0m\u001b[01;34mdatalab\u001b[0m/     296K img_12.jpeg  220K img_4.jpeg  240K img_8.jpeg\r\n",
            "308K img_0.jpeg   292K img_1.jpeg   312K img_5.jpeg  236K img_9.jpeg\r\n",
            "356K img_10.jpeg  296K img_2.jpeg   308K img_6.jpeg  1.3G small-2oq-c1r.csv\r\n",
            "308K img_11.jpeg  312K img_3.jpeg   356K img_7.jpeg\r\n"
          ],
          "name": "stdout"
        }
      ]
    },
    {
      "metadata": {
        "id": "Yyg2FUCYfDM6",
        "colab_type": "code",
        "colab": {}
      },
      "cell_type": "code",
      "source": [
        "histograms=[]\n",
        "from PIL import Image\n",
        "for img_num in range(0,13):\n",
        "    # Read the image\n",
        "    im = cv2.imread(\"img_\"+str(img_num)+\".jpeg\")\n",
        "    small = cv2.resize(im, (800, 500)) \n",
        "    # Convert to grayscale as LBP works on grayscale image\n",
        "    im_gray = cv2.cvtColor(small, cv2.COLOR_BGR2GRAY)\n",
        "    im_g = Image.fromarray(im_gray)\n",
        "    im_g.save(\"gray_\"+str(img_num)+\".jpeg\")\n",
        "#     print(type(im_gray))\n",
        "    radius = 12\n",
        "    # Number of points to be considered as neighbourers \n",
        "    no_points = 8 * 3\n",
        "    # Uniform LBP is used\n",
        "    lbp = local_binary_pattern(im_gray, no_points, radius, method='uniform')\n",
        "    # Calculate the histogram\n",
        "    x = itemfreq(lbp.ravel())\n",
        "    hist = x[:, 1]/sum(x[:, 1])\n",
        "    histograms.append(hist)"
      ],
      "execution_count": 0,
      "outputs": []
    },
    {
      "metadata": {
        "id": "rHJcH3DFmfUI",
        "colab_type": "code",
        "colab": {
          "base_uri": "https://localhost:8080/",
          "height": 34
        },
        "outputId": "a6f1c151-001b-4df8-bb92-d36137105c87"
      },
      "cell_type": "code",
      "source": [
        "[len(ee) for ee in histograms]"
      ],
      "execution_count": 556,
      "outputs": [
        {
          "output_type": "execute_result",
          "data": {
            "text/plain": [
              "[26, 26, 26, 26, 26, 26, 26, 26, 26, 26, 26, 26, 26]"
            ]
          },
          "metadata": {
            "tags": []
          },
          "execution_count": 556
        }
      ]
    },
    {
      "metadata": {
        "id": "S81nUxPhh1j4",
        "colab_type": "code",
        "colab": {}
      },
      "cell_type": "code",
      "source": [
        "import numpy\n",
        "comp_hist={numerical:[] for numerical in range(13)}\n",
        "for img_f_0 in range(0,13):\n",
        "  for img_f_1 in range(0,13):\n",
        "    histograms[img_f_0] = numpy.float32(histograms[img_f_0])\n",
        "    histograms[img_f_1] = numpy.float32(histograms[img_f_1])\n",
        "    score=cv2.compareHist(histograms[img_f_0], histograms[img_f_1],cv2.HISTCMP_CHISQR)\n",
        "    comp_hist[img_f_0].append((score,\"img_\"+str(img_f_1)))"
      ],
      "execution_count": 0,
      "outputs": []
    },
    {
      "metadata": {
        "id": "iHH6iXWJohD0",
        "colab_type": "code",
        "colab": {}
      },
      "cell_type": "code",
      "source": [
        "from operator import itemgetter"
      ],
      "execution_count": 0,
      "outputs": []
    },
    {
      "metadata": {
        "id": "N7udY-gt0m8D",
        "colab_type": "text"
      },
      "cell_type": "markdown",
      "source": [
        "### scores values are sorted for each key based on chisqure score "
      ]
    },
    {
      "metadata": {
        "id": "hiNAzZcykQDn",
        "colab_type": "code",
        "colab": {}
      },
      "cell_type": "code",
      "source": [
        "for key_score in comp_hist:\n",
        "  lists = comp_hist[key_score]\n",
        "  comp_hist[key_score]= sorted(lists,key=itemgetter(0))"
      ],
      "execution_count": 0,
      "outputs": []
    },
    {
      "metadata": {
        "id": "z2bir-yXvFdo",
        "colab_type": "text"
      },
      "cell_type": "markdown",
      "source": [
        "### Only image_names are taken from internal lists and formed as dataframe for us to view"
      ]
    },
    {
      "metadata": {
        "id": "o-haG8yMrLGE",
        "colab_type": "code",
        "colab": {}
      },
      "cell_type": "code",
      "source": [
        "#@title Remarks  7,3,11 were perfectly identified as they are ranked for 6,8,9 pair \n",
        "comparision_matrix=pandas.DataFrame([[score_[1] for score_ in scores_] for scores_ in comp_hist.values()])"
      ],
      "execution_count": 0,
      "outputs": []
    },
    {
      "metadata": {
        "id": "jXwVTJufq0VJ",
        "colab_type": "code",
        "colab": {}
      },
      "cell_type": "code",
      "source": [
        "comparision_matrix=comparision_matrix.set_index([[\"img_\"+str(numer) for numer in range(0,13)]])"
      ],
      "execution_count": 0,
      "outputs": []
    },
    {
      "metadata": {
        "id": "XBaopf8c2_JX",
        "colab_type": "code",
        "colab": {
          "base_uri": "https://localhost:8080/",
          "height": 432
        },
        "outputId": "9ebf71ef-f955-4103-c7b9-c2329bba510e"
      },
      "cell_type": "code",
      "source": [
        "#@title For most of pairs best matches appeared in top 4 scores \n",
        "comparision_matrix"
      ],
      "execution_count": 591,
      "outputs": [
        {
          "output_type": "execute_result",
          "data": {
            "text/html": [
              "<div>\n",
              "<style scoped>\n",
              "    .dataframe tbody tr th:only-of-type {\n",
              "        vertical-align: middle;\n",
              "    }\n",
              "\n",
              "    .dataframe tbody tr th {\n",
              "        vertical-align: top;\n",
              "    }\n",
              "\n",
              "    .dataframe thead th {\n",
              "        text-align: right;\n",
              "    }\n",
              "</style>\n",
              "<table border=\"1\" class=\"dataframe\">\n",
              "  <thead>\n",
              "    <tr style=\"text-align: right;\">\n",
              "      <th></th>\n",
              "      <th>0</th>\n",
              "      <th>1</th>\n",
              "      <th>2</th>\n",
              "      <th>3</th>\n",
              "      <th>4</th>\n",
              "      <th>5</th>\n",
              "      <th>6</th>\n",
              "      <th>7</th>\n",
              "      <th>8</th>\n",
              "      <th>9</th>\n",
              "      <th>10</th>\n",
              "      <th>11</th>\n",
              "      <th>12</th>\n",
              "    </tr>\n",
              "  </thead>\n",
              "  <tbody>\n",
              "    <tr>\n",
              "      <th>img_0</th>\n",
              "      <td>img_0</td>\n",
              "      <td>img_1</td>\n",
              "      <td>img_9</td>\n",
              "      <td>img_3</td>\n",
              "      <td>img_11</td>\n",
              "      <td>img_7</td>\n",
              "      <td>img_4</td>\n",
              "      <td>img_10</td>\n",
              "      <td>img_2</td>\n",
              "      <td>img_8</td>\n",
              "      <td>img_5</td>\n",
              "      <td>img_6</td>\n",
              "      <td>img_12</td>\n",
              "    </tr>\n",
              "    <tr>\n",
              "      <th>img_1</th>\n",
              "      <td>img_1</td>\n",
              "      <td>img_0</td>\n",
              "      <td>img_9</td>\n",
              "      <td>img_4</td>\n",
              "      <td>img_11</td>\n",
              "      <td>img_3</td>\n",
              "      <td>img_10</td>\n",
              "      <td>img_2</td>\n",
              "      <td>img_7</td>\n",
              "      <td>img_8</td>\n",
              "      <td>img_5</td>\n",
              "      <td>img_6</td>\n",
              "      <td>img_12</td>\n",
              "    </tr>\n",
              "    <tr>\n",
              "      <th>img_2</th>\n",
              "      <td>img_2</td>\n",
              "      <td>img_6</td>\n",
              "      <td>img_10</td>\n",
              "      <td>img_5</td>\n",
              "      <td>img_11</td>\n",
              "      <td>img_4</td>\n",
              "      <td>img_8</td>\n",
              "      <td>img_1</td>\n",
              "      <td>img_3</td>\n",
              "      <td>img_9</td>\n",
              "      <td>img_0</td>\n",
              "      <td>img_12</td>\n",
              "      <td>img_7</td>\n",
              "    </tr>\n",
              "    <tr>\n",
              "      <th>img_3</th>\n",
              "      <td>img_3</td>\n",
              "      <td>img_11</td>\n",
              "      <td>img_7</td>\n",
              "      <td>img_10</td>\n",
              "      <td>img_0</td>\n",
              "      <td>img_1</td>\n",
              "      <td>img_2</td>\n",
              "      <td>img_5</td>\n",
              "      <td>img_4</td>\n",
              "      <td>img_9</td>\n",
              "      <td>img_12</td>\n",
              "      <td>img_6</td>\n",
              "      <td>img_8</td>\n",
              "    </tr>\n",
              "    <tr>\n",
              "      <th>img_4</th>\n",
              "      <td>img_4</td>\n",
              "      <td>img_2</td>\n",
              "      <td>img_1</td>\n",
              "      <td>img_5</td>\n",
              "      <td>img_10</td>\n",
              "      <td>img_11</td>\n",
              "      <td>img_9</td>\n",
              "      <td>img_6</td>\n",
              "      <td>img_0</td>\n",
              "      <td>img_12</td>\n",
              "      <td>img_8</td>\n",
              "      <td>img_3</td>\n",
              "      <td>img_7</td>\n",
              "    </tr>\n",
              "    <tr>\n",
              "      <th>img_5</th>\n",
              "      <td>img_5</td>\n",
              "      <td>img_12</td>\n",
              "      <td>img_10</td>\n",
              "      <td>img_4</td>\n",
              "      <td>img_2</td>\n",
              "      <td>img_11</td>\n",
              "      <td>img_6</td>\n",
              "      <td>img_3</td>\n",
              "      <td>img_1</td>\n",
              "      <td>img_0</td>\n",
              "      <td>img_9</td>\n",
              "      <td>img_7</td>\n",
              "      <td>img_8</td>\n",
              "    </tr>\n",
              "    <tr>\n",
              "      <th>img_6</th>\n",
              "      <td>img_6</td>\n",
              "      <td>img_2</td>\n",
              "      <td>img_5</td>\n",
              "      <td>img_12</td>\n",
              "      <td>img_10</td>\n",
              "      <td>img_4</td>\n",
              "      <td>img_8</td>\n",
              "      <td>img_11</td>\n",
              "      <td>img_9</td>\n",
              "      <td>img_1</td>\n",
              "      <td>img_0</td>\n",
              "      <td>img_3</td>\n",
              "      <td>img_7</td>\n",
              "    </tr>\n",
              "    <tr>\n",
              "      <th>img_7</th>\n",
              "      <td>img_7</td>\n",
              "      <td>img_3</td>\n",
              "      <td>img_11</td>\n",
              "      <td>img_0</td>\n",
              "      <td>img_10</td>\n",
              "      <td>img_1</td>\n",
              "      <td>img_9</td>\n",
              "      <td>img_2</td>\n",
              "      <td>img_4</td>\n",
              "      <td>img_5</td>\n",
              "      <td>img_6</td>\n",
              "      <td>img_8</td>\n",
              "      <td>img_12</td>\n",
              "    </tr>\n",
              "    <tr>\n",
              "      <th>img_8</th>\n",
              "      <td>img_8</td>\n",
              "      <td>img_9</td>\n",
              "      <td>img_2</td>\n",
              "      <td>img_4</td>\n",
              "      <td>img_1</td>\n",
              "      <td>img_0</td>\n",
              "      <td>img_6</td>\n",
              "      <td>img_11</td>\n",
              "      <td>img_10</td>\n",
              "      <td>img_3</td>\n",
              "      <td>img_5</td>\n",
              "      <td>img_12</td>\n",
              "      <td>img_7</td>\n",
              "    </tr>\n",
              "    <tr>\n",
              "      <th>img_9</th>\n",
              "      <td>img_9</td>\n",
              "      <td>img_1</td>\n",
              "      <td>img_0</td>\n",
              "      <td>img_8</td>\n",
              "      <td>img_4</td>\n",
              "      <td>img_11</td>\n",
              "      <td>img_3</td>\n",
              "      <td>img_2</td>\n",
              "      <td>img_10</td>\n",
              "      <td>img_7</td>\n",
              "      <td>img_6</td>\n",
              "      <td>img_5</td>\n",
              "      <td>img_12</td>\n",
              "    </tr>\n",
              "    <tr>\n",
              "      <th>img_10</th>\n",
              "      <td>img_10</td>\n",
              "      <td>img_11</td>\n",
              "      <td>img_5</td>\n",
              "      <td>img_3</td>\n",
              "      <td>img_2</td>\n",
              "      <td>img_4</td>\n",
              "      <td>img_1</td>\n",
              "      <td>img_12</td>\n",
              "      <td>img_0</td>\n",
              "      <td>img_6</td>\n",
              "      <td>img_7</td>\n",
              "      <td>img_9</td>\n",
              "      <td>img_8</td>\n",
              "    </tr>\n",
              "    <tr>\n",
              "      <th>img_11</th>\n",
              "      <td>img_11</td>\n",
              "      <td>img_3</td>\n",
              "      <td>img_10</td>\n",
              "      <td>img_5</td>\n",
              "      <td>img_1</td>\n",
              "      <td>img_7</td>\n",
              "      <td>img_0</td>\n",
              "      <td>img_2</td>\n",
              "      <td>img_4</td>\n",
              "      <td>img_12</td>\n",
              "      <td>img_9</td>\n",
              "      <td>img_6</td>\n",
              "      <td>img_8</td>\n",
              "    </tr>\n",
              "    <tr>\n",
              "      <th>img_12</th>\n",
              "      <td>img_12</td>\n",
              "      <td>img_5</td>\n",
              "      <td>img_10</td>\n",
              "      <td>img_4</td>\n",
              "      <td>img_2</td>\n",
              "      <td>img_6</td>\n",
              "      <td>img_11</td>\n",
              "      <td>img_3</td>\n",
              "      <td>img_1</td>\n",
              "      <td>img_0</td>\n",
              "      <td>img_9</td>\n",
              "      <td>img_7</td>\n",
              "      <td>img_8</td>\n",
              "    </tr>\n",
              "  </tbody>\n",
              "</table>\n",
              "</div>"
            ],
            "text/plain": [
              "            0       1       2       3       4       5       6       7   \\\n",
              "img_0    img_0   img_1   img_9   img_3  img_11   img_7   img_4  img_10   \n",
              "img_1    img_1   img_0   img_9   img_4  img_11   img_3  img_10   img_2   \n",
              "img_2    img_2   img_6  img_10   img_5  img_11   img_4   img_8   img_1   \n",
              "img_3    img_3  img_11   img_7  img_10   img_0   img_1   img_2   img_5   \n",
              "img_4    img_4   img_2   img_1   img_5  img_10  img_11   img_9   img_6   \n",
              "img_5    img_5  img_12  img_10   img_4   img_2  img_11   img_6   img_3   \n",
              "img_6    img_6   img_2   img_5  img_12  img_10   img_4   img_8  img_11   \n",
              "img_7    img_7   img_3  img_11   img_0  img_10   img_1   img_9   img_2   \n",
              "img_8    img_8   img_9   img_2   img_4   img_1   img_0   img_6  img_11   \n",
              "img_9    img_9   img_1   img_0   img_8   img_4  img_11   img_3   img_2   \n",
              "img_10  img_10  img_11   img_5   img_3   img_2   img_4   img_1  img_12   \n",
              "img_11  img_11   img_3  img_10   img_5   img_1   img_7   img_0   img_2   \n",
              "img_12  img_12   img_5  img_10   img_4   img_2   img_6  img_11   img_3   \n",
              "\n",
              "            8       9       10      11      12  \n",
              "img_0    img_2   img_8   img_5   img_6  img_12  \n",
              "img_1    img_7   img_8   img_5   img_6  img_12  \n",
              "img_2    img_3   img_9   img_0  img_12   img_7  \n",
              "img_3    img_4   img_9  img_12   img_6   img_8  \n",
              "img_4    img_0  img_12   img_8   img_3   img_7  \n",
              "img_5    img_1   img_0   img_9   img_7   img_8  \n",
              "img_6    img_9   img_1   img_0   img_3   img_7  \n",
              "img_7    img_4   img_5   img_6   img_8  img_12  \n",
              "img_8   img_10   img_3   img_5  img_12   img_7  \n",
              "img_9   img_10   img_7   img_6   img_5  img_12  \n",
              "img_10   img_0   img_6   img_7   img_9   img_8  \n",
              "img_11   img_4  img_12   img_9   img_6   img_8  \n",
              "img_12   img_1   img_0   img_9   img_7   img_8  "
            ]
          },
          "metadata": {
            "tags": []
          },
          "execution_count": 591
        }
      ]
    },
    {
      "metadata": {
        "id": "tK6mo7Jz1evV",
        "colab_type": "text"
      },
      "cell_type": "markdown",
      "source": [
        "### Observations:\n",
        ">### From above table 7,11,3 pair  worked because when converted to grey they look very familiar or similar \n",
        ">### Local Bianry Patterns may not be the best algorithm for duplicate segmentation when colours are so contrast\n",
        ">### KeySepcsStr can be used as priliminary filter "
      ]
    },
    {
      "metadata": {
        "id": "WxzCTJjOwbZE",
        "colab_type": "code",
        "colab": {}
      },
      "cell_type": "code",
      "source": [
        "import IPython"
      ],
      "execution_count": 0,
      "outputs": []
    },
    {
      "metadata": {
        "id": "ubMQNO_4xsEC",
        "colab_type": "code",
        "colab": {
          "base_uri": "https://localhost:8080/",
          "height": 517
        },
        "outputId": "8b33d9a5-028f-41bc-de6d-a314766fab9b"
      },
      "cell_type": "code",
      "source": [
        "IPython.display.Image(\"gray_7.jpeg\")"
      ],
      "execution_count": 571,
      "outputs": [
        {
          "output_type": "execute_result",
          "data": {
            "image/jpeg": "[encoded data removed]",
            "text/plain": [
              "<IPython.core.display.Image object>"
            ]
          },
          "metadata": {
            "tags": []
          },
          "execution_count": 571
        }
      ]
    },
    {
      "metadata": {
        "id": "bzV4_89mx4At",
        "colab_type": "code",
        "colab": {
          "base_uri": "https://localhost:8080/",
          "height": 517
        },
        "outputId": "07083d15-642a-4d6f-d389-cc0abc7de293"
      },
      "cell_type": "code",
      "source": [
        "IPython.display.Image(\"gray_3.jpeg\")"
      ],
      "execution_count": 573,
      "outputs": [
        {
          "output_type": "execute_result",
          "data": {
            "image/jpeg": "[encoded data removed]",
            "text/plain": [
              "<IPython.core.display.Image object>"
            ]
          },
          "metadata": {
            "tags": []
          },
          "execution_count": 573
        }
      ]
    },
    {
      "metadata": {
        "id": "gGe6vZ5QyBwc",
        "colab_type": "code",
        "colab": {
          "base_uri": "https://localhost:8080/",
          "height": 34
        },
        "outputId": "5ef669bc-af74-45d3-fb38-d21d471614e8"
      },
      "cell_type": "code",
      "source": [
        "len(temp_tops.original_imgsizes.tolist())"
      ],
      "execution_count": 597,
      "outputs": [
        {
          "output_type": "execute_result",
          "data": {
            "text/plain": [
              "104756"
            ]
          },
          "metadata": {
            "tags": []
          },
          "execution_count": 597
        }
      ]
    },
    {
      "metadata": {
        "id": "H6iYC7Zk3yLK",
        "colab_type": "code",
        "colab": {}
      },
      "cell_type": "code",
      "source": [
        ""
      ],
      "execution_count": 0,
      "outputs": []
    }
  ]
}
